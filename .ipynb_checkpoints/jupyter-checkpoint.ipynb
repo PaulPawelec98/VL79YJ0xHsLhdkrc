{
 "cells": [
  {
   "cell_type": "markdown",
   "id": "74d8d256",
   "metadata": {},
   "source": [
    "# Analysis Notebook\n",
    "\n",
    "This notebook is generated from the provided Python script."
   ]
  },
  {
   "cell_type": "code",
   "execution_count": null,
   "id": "c8030f79",
   "metadata": {},
   "outputs": [],
   "source": [
    "import os\n",
    "import pandas as pd\n",
    "import numpy as np\n",
    "import matplotlib.pyplot as plt\n",
    "import seaborn as sns\n",
    "from sklearn.utils import shuffle\n",
    "from sklearn.model_selection import train_test_split\n",
    "from sklearn.preprocessing import Binarizer\n",
    "from sklearn.naive_bayes import BernoulliNB\n",
    "from sklearn.ensemble import ExtraTreesClassifier, VotingClassifier, StackingClassifier\n",
    "from xgboost import XGBClassifier\n",
    "from sklearn.linear_model import LogisticRegression\n",
    "from sklearn.metrics import recall_score, confusion_matrix, classification_report\n",
    "from sklearn.utils.class_weight import compute_class_weight\n",
    "from hyperopt import fmin, tpe, hp, STATUS_OK, space_eval\n",
    "from hyperopt.pyll.base import scope\n",
    "from sklearn.feature_selection import RFE\n",
    "import seaborn as sns"
   ]
  },
  {
   "cell_type": "markdown",
   "id": "b52d72f1",
   "metadata": {},
   "source": [
    "## Background\n",
    "\n",
    "We are analyzing customer happiness based on survey data."
   ]
  },
  {
   "cell_type": "code",
   "execution_count": null,
   "id": "cb6f0e31",
   "metadata": {},
   "outputs": [],
   "source": [
    "# Set Dir\n",
    "path_dir = r'E:\\My Stuff\\Projects\\Apziva\\pG736HzU7DLB8fEa'\n",
    "os.chdir(path_dir)\n",
    "\n",
    "# Load Data\n",
    "df = pd.read_csv(\"ACME-HappinessSurvey2020.csv\")\n",
    "fitted_models = {}\n",
    "\n",
    "# Prepare Data\n",
    "X, y = shuffle(df.iloc[:, 1:], df['Y'], random_state=3921)\n",
    "X_train, X_test, y_train, y_test = train_test_split(X, y, test_size=0.55, random_state=3921)\n",
    "binarizer = Binarizer(threshold=3)\n",
    "X_train_binary = binarizer.fit_transform(X_train)\n",
    "X_test_binary = binarizer.fit_transform(X_test)"
   ]
  },
  {
   "cell_type": "code",
   "execution_count": null,
   "id": "92ca3c0a",
   "metadata": {},
   "outputs": [],
   "source": [
    "# Compute Class Weights\n",
    "class_weights = compute_class_weight(class_weight='balanced', classes=np.unique(y_train), y=y_train)\n",
    "class_weight_dict = dict(enumerate(class_weights))\n",
    "sample_weights = np.array([class_weight_dict[label] for label in y_train])"
   ]
  },
  {
   "cell_type": "code",
   "execution_count": null,
   "id": "4f528521",
   "metadata": {},
   "outputs": [],
   "source": [
    "# Train BernoulliNB Model\n",
    "model = BernoulliNB(alpha=0.5, binarize=3, fit_prior=True, class_prior=[0.55, 0.45])\n",
    "model.fit(X_train, y_train, sample_weight=sample_weights)\n",
    "fitted_models['BernoulliNB'] = model"
   ]
  },
  {
   "cell_type": "code",
   "execution_count": null,
   "id": "cc3e2d63",
   "metadata": {},
   "outputs": [],
   "source": [
    "# Train ExtraTreesClassifier Model\n",
    "model = ExtraTreesClassifier(n_estimators=100, max_depth=2, min_samples_split=3, min_samples_leaf=1, bootstrap=False, random_state=3921, class_weight={0: 1.025, 1: 0.975})\n",
    "model.fit(X_train, y_train, sample_weight=sample_weights)\n",
    "fitted_models['ExtraTreesClassifier'] = model"
   ]
  },
  {
   "cell_type": "code",
   "execution_count": null,
   "id": "e07110b0",
   "metadata": {},
   "outputs": [],
   "source": [
    "# Evaluate Performance\n",
    "def get_recall_score(model_name):\n",
    "    model = fitted_models[model_name]\n",
    "    y_pred = model.predict(X_test)\n",
    "    return model_name, recall_score(y_test, y_pred, pos_label=0)\n",
    "\n",
    "recall_results = dict(map(get_recall_score, fitted_models))\n",
    "print(recall_results)"
   ]
  },
  {
   "cell_type": "code",
   "execution_count": null,
   "id": "de86b735",
   "metadata": {},
   "outputs": [],
   "source": [
    "# Plot Confusion Matrices\n",
    "fig_cm, axes = plt.subplots(1, len(fitted_models), figsize=(12, 5))\n",
    "for ax, (name, model) in zip(axes, fitted_models.items()):\n",
    "    y_pred = model.predict(X_test)\n",
    "    cm = confusion_matrix(y_test, y_pred)\n",
    "    sns.heatmap(cm, annot=True, fmt='d', cmap='Blues', cbar=False, ax=ax)\n",
    "    ax.set_title(name)\n",
    "plt.tight_layout()\n",
    "plt.show()"
   ]
  }
 ],
 "metadata": {
  "kernelspec": {
   "display_name": "Python 3 (ipykernel)",
   "language": "python",
   "name": "python3"
  },
  "language_info": {
   "codemirror_mode": {
    "name": "ipython",
    "version": 3
   },
   "file_extension": ".py",
   "mimetype": "text/x-python",
   "name": "python",
   "nbconvert_exporter": "python",
   "pygments_lexer": "ipython3",
   "version": "3.9.16"
  }
 },
 "nbformat": 4,
 "nbformat_minor": 5
}
